{
 "cells": [
  {
   "cell_type": "markdown",
   "metadata": {},
   "source": [
    "# Introduction\n",
    "\n",
    "In this project, you will build a neural network of your own design to evaluate the CIFAR-10 dataset.\n",
    "\n",
    "To meet the requirements for this project, you will need to achieve an accuracy greater than 45%. \n",
    "If you want to beat Detectocorp's algorithm, you'll need to achieve an accuracy greater than 70%. \n",
    "(Beating Detectocorp's algorithm is not a requirement for passing this project, but you're encouraged to try!)\n",
    "\n",
    "Some of the benchmark results on CIFAR-10 include:\n",
    "\n",
    "78.9% Accuracy | [Deep Belief Networks; Krizhevsky, 2010](https://www.cs.toronto.edu/~kriz/conv-cifar10-aug2010.pdf)\n",
    "\n",
    "90.6% Accuracy | [Maxout Networks; Goodfellow et al., 2013](https://arxiv.org/pdf/1302.4389.pdf)\n",
    "\n",
    "96.0% Accuracy | [Wide Residual Networks; Zagoruyko et al., 2016](https://arxiv.org/pdf/1605.07146.pdf)\n",
    "\n",
    "99.0% Accuracy | [GPipe; Huang et al., 2018](https://arxiv.org/pdf/1811.06965.pdf)\n",
    "\n",
    "98.5% Accuracy | [Rethinking Recurrent Neural Networks and other Improvements for ImageClassification; Nguyen et al., 2020](https://arxiv.org/pdf/2007.15161.pdf)\n",
    "\n",
    "Research with this dataset is ongoing. Notably, many of these networks are quite large and quite expensive to train. \n",
    "\n",
    "## Imports"
   ]
  },
  {
   "cell_type": "code",
   "execution_count": 5,
   "metadata": {},
   "outputs": [],
   "source": [
    "## This cell contains the essential imports you will need – DO NOT CHANGE THE CONTENTS! ##\n",
    "import torch\n",
    "import torch.nn as nn\n",
    "import torch.nn.functional as F\n",
    "import torch.optim as optim\n",
    "import torchvision\n",
    "import torchvision.transforms as transforms\n",
    "import matplotlib.pyplot as plt\n",
    "import numpy as np"
   ]
  },
  {
   "cell_type": "markdown",
   "metadata": {},
   "source": [
    "## Load the Dataset\n",
    "\n",
    "Specify your transforms as a list first.\n",
    "The transforms module is already loaded as `transforms`.\n",
    "\n",
    "CIFAR-10 is fortunately included in the torchvision module.\n",
    "Then, you can create your dataset using the `CIFAR10` object from `torchvision.datasets` ([the documentation is available here](https://pytorch.org/docs/stable/torchvision/datasets.html#cifar)).\n",
    "Make sure to specify `download=True`! \n",
    "\n",
    "Once your dataset is created, you'll also need to define a `DataLoader` from the `torch.utils.data` module for both the train and the test set."
   ]
  },
  {
   "cell_type": "code",
   "execution_count": 6,
   "metadata": {},
   "outputs": [
    {
     "name": "stdout",
     "output_type": "stream",
     "text": [
      "Files already downloaded and verified\n",
      "Files already downloaded and verified\n"
     ]
    }
   ],
   "source": [
    "from torchvision import datasets, transforms, models\n",
    "\n",
    "data_dir = 'CIFAR10'\n",
    "\n",
    "#Define transforms\n",
    "\n",
    "train_transforms = transforms.Compose([transforms.RandomRotation(30),\n",
    "                                       transforms.RandomHorizontalFlip(),\n",
    "                                       transforms.ToTensor(),\n",
    "                                       transforms.Normalize([0.5, 0.5, 0.5],\n",
    "                                                            [0.5, 0.5, 0.5])])\n",
    "\n",
    "\n",
    "test_transforms = transforms.Compose([\n",
    "                                      transforms.ToTensor()\n",
    "                                    ])\n",
    "\n",
    "# Create training set and define training dataloader\n",
    "train_data = datasets.CIFAR10(root='./data', train=True, download=True, transform=train_transforms)\n",
    "trainloader = torch.utils.data.DataLoader(train_data, batch_size=64, shuffle=True)\n",
    "\n",
    "# Create test set and define test dataloader\n",
    "test_data = datasets.CIFAR10(root='./data', train=False, download=True, transform=test_transforms)\n",
    "testloader = torch.utils.data.DataLoader(test_data, batch_size=64)\n",
    "\n",
    "# The 10 classes in the dataset\n",
    "classes = ('plane', 'car', 'bird', 'cat', 'deer', 'dog', 'frog', 'horse', 'ship', 'truck')"
   ]
  },
  {
   "cell_type": "code",
   "execution_count": null,
   "metadata": {},
   "outputs": [],
   "source": []
  },
  {
   "cell_type": "code",
   "execution_count": 7,
   "metadata": {},
   "outputs": [
    {
     "name": "stdout",
     "output_type": "stream",
     "text": [
      "<class 'torch.Tensor'>\n",
      "torch.Size([64, 3, 32, 32])\n",
      "torch.Size([64])\n"
     ]
    }
   ],
   "source": [
    "dataiter = iter(trainloader)\n",
    "images, labels = dataiter.next()\n",
    "print(type(images))\n",
    "print(images.shape)\n",
    "print(labels.shape)"
   ]
  },
  {
   "cell_type": "markdown",
   "metadata": {},
   "source": [
    "We can see below that images is just a tensor with size (64, 3, 224, 224). So, 64 images per batch, 3 color channels (RGB), and 224x224 images"
   ]
  },
  {
   "cell_type": "code",
   "execution_count": 8,
   "metadata": {},
   "outputs": [],
   "source": [
    "#for batch_idx, samples in enumerate(trainloader):\n",
    "      #print(batch_idx, samples)"
   ]
  },
  {
   "cell_type": "markdown",
   "metadata": {},
   "source": [
    "## Explore the Dataset\n",
    "Using matplotlib, numpy, and torch, explore the dimensions of your data.\n",
    "\n",
    "You can view images using the `show5` function defined below – it takes a data loader as an argument.\n",
    "Remember that normalized images will look really weird to you! You may want to try changing your transforms to view images.\n",
    "Typically using no transforms other than `toTensor()` works well for viewing – but not as well for training your network.\n",
    "If `show5` doesn't work, go back and check your code for creating your data loaders and your training/test sets."
   ]
  },
  {
   "cell_type": "code",
   "execution_count": 9,
   "metadata": {},
   "outputs": [],
   "source": [
    "def show5(img_loader):\n",
    "    dataiter = iter(img_loader)\n",
    "    \n",
    "    batch = next(dataiter)\n",
    "    labels = batch[1][0:5]\n",
    "    images = batch[0][0:5]\n",
    "    for i in range(5):\n",
    "        print(classes[labels[i]])\n",
    "    \n",
    "        image = images[i].numpy()\n",
    "        std = (.5, .5, .5)\n",
    "        mean = (.5, .5, .5)\n",
    "        for i in range(3):\n",
    "            image[i]=std[i]* image[i] + mean[i]\n",
    "        plt.imshow(np.rot90(image.T, k=3))\n",
    "        plt.show()"
   ]
  },
  {
   "cell_type": "code",
   "execution_count": 6,
   "metadata": {},
   "outputs": [
    {
     "name": "stdout",
     "output_type": "stream",
     "text": [
      "cat\n"
     ]
    },
    {
     "data": {
      "image/png": "[encoded data removed]",
      "text/plain": [
       "<matplotlib.figure.Figure at 0x7f9c21224fd0>"
      ]
     },
     "metadata": {
      "needs_background": "light"
     },
     "output_type": "display_data"
    },
    {
     "name": "stdout",
     "output_type": "stream",
     "text": [
      "frog\n"
     ]
    },
    {
     "data": {
      "image/png": "[encoded data removed]",
      "text/plain": [
       "<matplotlib.figure.Figure at 0x7f9c179d4d68>"
      ]
     },
     "metadata": {
      "needs_background": "light"
     },
     "output_type": "display_data"
    },
    {
     "name": "stdout",
     "output_type": "stream",
     "text": [
      "frog\n"
     ]
    },
    {
     "data": {
      "image/png": "[encoded data removed]",
      "text/plain": [
       "<matplotlib.figure.Figure at 0x7f9c15949400>"
      ]
     },
     "metadata": {
      "needs_background": "light"
     },
     "output_type": "display_data"
    },
    {
     "name": "stdout",
     "output_type": "stream",
     "text": [
      "truck\n"
     ]
    },
    {
     "data": {
      "image/png": "[encoded data removed]",
      "text/plain": [
       "<matplotlib.figure.Figure at 0x7f9c1590c908>"
      ]
     },
     "metadata": {
      "needs_background": "light"
     },
     "output_type": "display_data"
    },
    {
     "name": "stdout",
     "output_type": "stream",
     "text": [
      "truck\n"
     ]
    },
    {
     "data": {
      "image/png": "[encoded data removed]",
      "text/plain": [
       "<matplotlib.figure.Figure at 0x7f9c15823358>"
      ]
     },
     "metadata": {
      "needs_background": "light"
     },
     "output_type": "display_data"
    }
   ],
   "source": [
    "# Explore data\n",
    "show5(trainloader)"
   ]
  },
  {
   "cell_type": "code",
   "execution_count": 10,
   "metadata": {},
   "outputs": [],
   "source": [
    "def imshow(img):    # unnormalize\n",
    "    npimg = img.numpy()\n",
    "    plt.imshow(np.transpose(npimg, (1, 2, 0)))\n",
    "    plt.show()"
   ]
  },
  {
   "cell_type": "code",
   "execution_count": 11,
   "metadata": {},
   "outputs": [
    {
     "name": "stdout",
     "output_type": "stream",
     "text": [
      "tensor([[[ 0.6392,  0.6078,  0.3882,  ..., -0.6314, -0.6235, -0.6235],\n",
      "         [ 0.6549,  0.6627,  0.5137,  ..., -0.6000, -0.6000, -0.5922],\n",
      "         [ 0.6235,  0.6549,  0.6000,  ..., -0.5843, -0.5843, -0.5765],\n",
      "         ...,\n",
      "         [-0.5608, -0.5373, -0.5765,  ..., -0.8588, -0.8745, -0.8667],\n",
      "         [-0.1529, -0.0980, -0.1294,  ..., -0.3098, -0.3098, -0.3098],\n",
      "         [ 0.1216,  0.1059,  0.1608,  ...,  0.0824,  0.0118, -0.0275]],\n",
      "\n",
      "        [[ 0.8039,  0.7882,  0.6706,  ..., -0.4118, -0.4353, -0.4588],\n",
      "         [ 0.8196,  0.8431,  0.7725,  ..., -0.3647, -0.3961, -0.4196],\n",
      "         [ 0.7961,  0.8118,  0.8275,  ..., -0.3412, -0.3647, -0.3961],\n",
      "         ...,\n",
      "         [-0.5137, -0.4902, -0.5294,  ..., -0.5608, -0.6078, -0.6235],\n",
      "         [-0.1216, -0.0588, -0.0902,  ..., -0.0902, -0.0902, -0.0902],\n",
      "         [ 0.2627,  0.2471,  0.3020,  ...,  0.2784,  0.2157,  0.1922]],\n",
      "\n",
      "        [[ 0.7255,  0.7176,  0.6078,  ...,  0.1529,  0.1373,  0.1216],\n",
      "         [ 0.7412,  0.7569,  0.7020,  ...,  0.1843,  0.1686,  0.1608],\n",
      "         [ 0.7176,  0.7333,  0.7412,  ...,  0.1765,  0.1686,  0.1686],\n",
      "         ...,\n",
      "         [-0.3176, -0.2941, -0.3333,  ..., -0.2314, -0.3020, -0.3490],\n",
      "         [ 0.0588,  0.1216,  0.0824,  ...,  0.1451,  0.1373,  0.1294],\n",
      "         [ 0.4275,  0.4039,  0.4510,  ...,  0.4510,  0.4118,  0.4196]]])\n",
      "ship\n"
     ]
    }
   ],
   "source": [
    "for images, labels in trainloader:\n",
    "    #imshow(images[0])\n",
    "    print(images[0])\n",
    "    print(classes[labels[0].item()])\n",
    "    break"
   ]
  },
  {
   "cell_type": "markdown",
   "metadata": {},
   "source": [
    "## Build your Neural Network\n",
    "Using the layers in `torch.nn` (which has been imported as `nn`) and the `torch.nn.functional` module (imported as `F`), construct a neural network based on the parameters of the dataset. \n",
    "Feel free to construct a model of any architecture – feedforward, convolutional, or even something more advanced!"
   ]
  },
  {
   "cell_type": "code",
   "execution_count": 12,
   "metadata": {},
   "outputs": [],
   "source": [
    "from torch import nn, optim\n",
    "import torch.nn.functional as F\n",
    "\n",
    "class CifarModel(nn.Module):\n",
    "    def __init__(self):\n",
    "        super().__init__()\n",
    "        self.fc1 = nn.Linear(3072, 768)\n",
    "        self.fc2 = nn.Linear(768, 10)\n",
    "        \n",
    "        \n",
    "        self.dropout = nn.Dropout(p=0.2)\n",
    "        \n",
    "    def forward(self, x):\n",
    "        # make sure input tensor is flattened\n",
    "        x = x.view(x.shape[0], -1)\n",
    "        \n",
    "        x = self.dropout(F.relu(self.fc1(x)))\n",
    "        x = F.log_softmax(self.fc2(x), dim=1)\n",
    "        \n",
    "        return x"
   ]
  },
  {
   "cell_type": "code",
   "execution_count": null,
   "metadata": {},
   "outputs": [],
   "source": []
  },
  {
   "cell_type": "code",
   "execution_count": 13,
   "metadata": {},
   "outputs": [
    {
     "data": {
      "text/plain": [
       "CifarModel(\n",
       "  (fc1): Linear(in_features=3072, out_features=768, bias=True)\n",
       "  (fc2): Linear(in_features=768, out_features=10, bias=True)\n",
       "  (dropout): Dropout(p=0.2)\n",
       ")"
      ]
     },
     "execution_count": 13,
     "metadata": {},
     "output_type": "execute_result"
    }
   ],
   "source": [
    "model = CifarModel()\n",
    "model"
   ]
  },
  {
   "cell_type": "markdown",
   "metadata": {},
   "source": [
    "Specify a loss function and an optimizer, and instantiate the model.\n",
    "\n",
    "If you use a less common loss function, please note why you chose that loss function in a comment."
   ]
  },
  {
   "cell_type": "code",
   "execution_count": 14,
   "metadata": {},
   "outputs": [
    {
     "name": "stdout",
     "output_type": "stream",
     "text": [
      "cuda\n"
     ]
    }
   ],
   "source": [
    "criterion =nn.NLLLoss()\n",
    "optimizer = optim.Adam(model.parameters(), lr=0.001)\n",
    "\n",
    "device = torch.device(\"cuda\" if torch.cuda.is_available() else \"cpu\")\n",
    "print(device)"
   ]
  },
  {
   "cell_type": "code",
   "execution_count": 15,
   "metadata": {},
   "outputs": [
    {
     "name": "stdout",
     "output_type": "stream",
     "text": [
      "CUDA is available!  Training on GPU ...\n"
     ]
    }
   ],
   "source": [
    "train_on_gpu = torch.cuda.is_available()\n",
    "device = torch.device(\"cuda\" if torch.cuda.is_available() else \"cpu\")\n",
    "if not train_on_gpu:\n",
    "    print('CUDA is not available.  Training on CPU ...')\n",
    "else:\n",
    "    print('CUDA is available!  Training on GPU ...')"
   ]
  },
  {
   "cell_type": "code",
   "execution_count": null,
   "metadata": {},
   "outputs": [
    {
     "name": "stdout",
     "output_type": "stream",
     "text": [
      "Epoch: 1/30..  Training Loss: 0.070..  Test Loss: 2.583..  Test Accuracy: 0.212\n",
      "Epoch: 1/30..  Training Loss: 0.064..  Test Loss: 3.963..  Test Accuracy: 0.162\n",
      "Epoch: 1/30..  Training Loss: 0.063..  Test Loss: 4.534..  Test Accuracy: 0.148\n",
      "Epoch: 1/30..  Training Loss: 0.061..  Test Loss: 3.748..  Test Accuracy: 0.188\n",
      "Epoch: 1/30..  Training Loss: 0.059..  Test Loss: 3.351..  Test Accuracy: 0.182\n",
      "Epoch: 1/30..  Training Loss: 0.059..  Test Loss: 2.582..  Test Accuracy: 0.238\n",
      "Epoch: 1/30..  Training Loss: 0.060..  Test Loss: 3.286..  Test Accuracy: 0.179\n",
      "Epoch: 1/30..  Training Loss: 0.057..  Test Loss: 3.177..  Test Accuracy: 0.160\n",
      "Epoch: 1/30..  Training Loss: 0.059..  Test Loss: 3.071..  Test Accuracy: 0.217\n",
      "Epoch: 1/30..  Training Loss: 0.059..  Test Loss: 2.840..  Test Accuracy: 0.179\n",
      "Epoch: 1/30..  Training Loss: 0.058..  Test Loss: 2.855..  Test Accuracy: 0.194\n",
      "Epoch: 1/30..  Training Loss: 0.057..  Test Loss: 3.240..  Test Accuracy: 0.163\n",
      "Epoch: 1/30..  Training Loss: 0.057..  Test Loss: 2.807..  Test Accuracy: 0.205\n",
      "Epoch: 1/30..  Training Loss: 0.056..  Test Loss: 2.922..  Test Accuracy: 0.159\n",
      "Epoch: 1/30..  Training Loss: 0.056..  Test Loss: 3.039..  Test Accuracy: 0.215\n",
      "Epoch: 1/30..  Training Loss: 0.057..  Test Loss: 3.004..  Test Accuracy: 0.183\n",
      "Epoch: 1/30..  Training Loss: 0.057..  Test Loss: 3.178..  Test Accuracy: 0.180\n",
      "Epoch: 1/30..  Training Loss: 0.057..  Test Loss: 3.670..  Test Accuracy: 0.219\n",
      "Epoch: 1/30..  Training Loss: 0.056..  Test Loss: 3.059..  Test Accuracy: 0.193\n",
      "Epoch: 1/30..  Training Loss: 0.057..  Test Loss: 2.804..  Test Accuracy: 0.223\n",
      "Epoch: 1/30..  Training Loss: 0.056..  Test Loss: 4.008..  Test Accuracy: 0.166\n",
      "Epoch: 1/30..  Training Loss: 0.056..  Test Loss: 3.567..  Test Accuracy: 0.210\n",
      "Epoch: 1/30..  Training Loss: 0.055..  Test Loss: 3.550..  Test Accuracy: 0.211\n",
      "Epoch: 1/30..  Training Loss: 0.057..  Test Loss: 3.346..  Test Accuracy: 0.217\n",
      "Epoch: 1/30..  Training Loss: 0.057..  Test Loss: 4.927..  Test Accuracy: 0.169\n",
      "Epoch: 1/30..  Training Loss: 0.056..  Test Loss: 4.317..  Test Accuracy: 0.154\n",
      "Epoch: 1/30..  Training Loss: 0.056..  Test Loss: 2.816..  Test Accuracy: 0.216\n",
      "Epoch: 1/30..  Training Loss: 0.054..  Test Loss: 3.839..  Test Accuracy: 0.149\n",
      "Epoch: 1/30..  Training Loss: 0.055..  Test Loss: 2.492..  Test Accuracy: 0.262\n",
      "Epoch: 1/30..  Training Loss: 0.055..  Test Loss: 3.873..  Test Accuracy: 0.168\n",
      "Epoch: 1/30..  Training Loss: 0.055..  Test Loss: 3.578..  Test Accuracy: 0.215\n",
      "Epoch: 2/30..  Training Loss: 0.054..  Test Loss: 3.024..  Test Accuracy: 0.163\n",
      "Epoch: 2/30..  Training Loss: 0.056..  Test Loss: 3.317..  Test Accuracy: 0.231\n",
      "Epoch: 2/30..  Training Loss: 0.056..  Test Loss: 2.602..  Test Accuracy: 0.218\n",
      "Epoch: 2/30..  Training Loss: 0.055..  Test Loss: 3.500..  Test Accuracy: 0.177\n",
      "Epoch: 2/30..  Training Loss: 0.055..  Test Loss: 3.838..  Test Accuracy: 0.206\n",
      "Epoch: 2/30..  Training Loss: 0.055..  Test Loss: 4.145..  Test Accuracy: 0.137\n",
      "Epoch: 2/30..  Training Loss: 0.055..  Test Loss: 3.534..  Test Accuracy: 0.176\n",
      "Epoch: 2/30..  Training Loss: 0.055..  Test Loss: 3.144..  Test Accuracy: 0.179\n",
      "Epoch: 2/30..  Training Loss: 0.055..  Test Loss: 3.409..  Test Accuracy: 0.227\n",
      "Epoch: 2/30..  Training Loss: 0.055..  Test Loss: 3.219..  Test Accuracy: 0.206\n",
      "Epoch: 2/30..  Training Loss: 0.054..  Test Loss: 3.389..  Test Accuracy: 0.161\n",
      "Epoch: 2/30..  Training Loss: 0.053..  Test Loss: 4.511..  Test Accuracy: 0.141\n",
      "Epoch: 2/30..  Training Loss: 0.053..  Test Loss: 3.146..  Test Accuracy: 0.176\n",
      "Epoch: 2/30..  Training Loss: 0.056..  Test Loss: 4.418..  Test Accuracy: 0.157\n",
      "Epoch: 2/30..  Training Loss: 0.053..  Test Loss: 3.185..  Test Accuracy: 0.196\n",
      "Epoch: 2/30..  Training Loss: 0.055..  Test Loss: 4.380..  Test Accuracy: 0.130\n",
      "Epoch: 2/30..  Training Loss: 0.055..  Test Loss: 4.241..  Test Accuracy: 0.171\n",
      "Epoch: 2/30..  Training Loss: 0.055..  Test Loss: 4.025..  Test Accuracy: 0.169\n",
      "Epoch: 2/30..  Training Loss: 0.055..  Test Loss: 3.496..  Test Accuracy: 0.184\n",
      "Epoch: 2/30..  Training Loss: 0.054..  Test Loss: 3.872..  Test Accuracy: 0.211\n",
      "Epoch: 2/30..  Training Loss: 0.053..  Test Loss: 5.419..  Test Accuracy: 0.132\n",
      "Epoch: 2/30..  Training Loss: 0.054..  Test Loss: 3.809..  Test Accuracy: 0.189\n",
      "Epoch: 2/30..  Training Loss: 0.053..  Test Loss: 2.427..  Test Accuracy: 0.260\n",
      "Epoch: 2/30..  Training Loss: 0.054..  Test Loss: 6.254..  Test Accuracy: 0.105\n",
      "Epoch: 2/30..  Training Loss: 0.054..  Test Loss: 6.213..  Test Accuracy: 0.137\n",
      "Epoch: 2/30..  Training Loss: 0.055..  Test Loss: 4.476..  Test Accuracy: 0.148\n",
      "Epoch: 2/30..  Training Loss: 0.055..  Test Loss: 4.274..  Test Accuracy: 0.212\n",
      "Epoch: 2/30..  Training Loss: 0.054..  Test Loss: 3.938..  Test Accuracy: 0.191\n",
      "Epoch: 2/30..  Training Loss: 0.053..  Test Loss: 3.397..  Test Accuracy: 0.175\n",
      "Epoch: 2/30..  Training Loss: 0.054..  Test Loss: 2.971..  Test Accuracy: 0.235\n",
      "Epoch: 2/30..  Training Loss: 0.052..  Test Loss: 4.072..  Test Accuracy: 0.197\n",
      "Epoch: 3/30..  Training Loss: 0.053..  Test Loss: 2.637..  Test Accuracy: 0.273\n",
      "Epoch: 3/30..  Training Loss: 0.053..  Test Loss: 4.049..  Test Accuracy: 0.187\n",
      "Epoch: 3/30..  Training Loss: 0.054..  Test Loss: 5.850..  Test Accuracy: 0.120\n",
      "Epoch: 3/30..  Training Loss: 0.054..  Test Loss: 4.669..  Test Accuracy: 0.148\n",
      "Epoch: 3/30..  Training Loss: 0.053..  Test Loss: 3.381..  Test Accuracy: 0.281\n",
      "Epoch: 3/30..  Training Loss: 0.055..  Test Loss: 4.028..  Test Accuracy: 0.187\n",
      "Epoch: 3/30..  Training Loss: 0.054..  Test Loss: 4.706..  Test Accuracy: 0.135\n",
      "Epoch: 3/30..  Training Loss: 0.054..  Test Loss: 4.763..  Test Accuracy: 0.141\n",
      "Epoch: 3/30..  Training Loss: 0.053..  Test Loss: 4.911..  Test Accuracy: 0.160\n",
      "Epoch: 3/30..  Training Loss: 0.054..  Test Loss: 5.840..  Test Accuracy: 0.149\n",
      "Epoch: 3/30..  Training Loss: 0.054..  Test Loss: 4.729..  Test Accuracy: 0.193\n",
      "Epoch: 3/30..  Training Loss: 0.053..  Test Loss: 5.440..  Test Accuracy: 0.127\n",
      "Epoch: 3/30..  Training Loss: 0.053..  Test Loss: 3.414..  Test Accuracy: 0.185\n",
      "Epoch: 3/30..  Training Loss: 0.054..  Test Loss: 5.291..  Test Accuracy: 0.123\n",
      "Epoch: 3/30..  Training Loss: 0.052..  Test Loss: 5.192..  Test Accuracy: 0.178\n",
      "Epoch: 3/30..  Training Loss: 0.054..  Test Loss: 3.331..  Test Accuracy: 0.223\n",
      "Epoch: 3/30..  Training Loss: 0.054..  Test Loss: 3.567..  Test Accuracy: 0.209\n",
      "Epoch: 3/30..  Training Loss: 0.054..  Test Loss: 5.362..  Test Accuracy: 0.168\n",
      "Epoch: 3/30..  Training Loss: 0.053..  Test Loss: 4.854..  Test Accuracy: 0.154\n",
      "Epoch: 3/30..  Training Loss: 0.054..  Test Loss: 6.648..  Test Accuracy: 0.162\n",
      "Epoch: 3/30..  Training Loss: 0.055..  Test Loss: 3.977..  Test Accuracy: 0.161\n",
      "Epoch: 3/30..  Training Loss: 0.054..  Test Loss: 4.905..  Test Accuracy: 0.167\n",
      "Epoch: 3/30..  Training Loss: 0.053..  Test Loss: 8.693..  Test Accuracy: 0.102\n",
      "Epoch: 3/30..  Training Loss: 0.054..  Test Loss: 7.569..  Test Accuracy: 0.107\n",
      "Epoch: 3/30..  Training Loss: 0.054..  Test Loss: 4.125..  Test Accuracy: 0.176\n",
      "Epoch: 3/30..  Training Loss: 0.053..  Test Loss: 4.797..  Test Accuracy: 0.179\n",
      "Epoch: 3/30..  Training Loss: 0.053..  Test Loss: 3.916..  Test Accuracy: 0.156\n",
      "Epoch: 3/30..  Training Loss: 0.053..  Test Loss: 6.778..  Test Accuracy: 0.126\n",
      "Epoch: 3/30..  Training Loss: 0.052..  Test Loss: 4.715..  Test Accuracy: 0.146\n",
      "Epoch: 3/30..  Training Loss: 0.054..  Test Loss: 3.492..  Test Accuracy: 0.207\n",
      "Epoch: 3/30..  Training Loss: 0.052..  Test Loss: 3.517..  Test Accuracy: 0.203\n",
      "Epoch: 4/30..  Training Loss: 0.053..  Test Loss: 4.292..  Test Accuracy: 0.169\n",
      "Epoch: 4/30..  Training Loss: 0.052..  Test Loss: 4.304..  Test Accuracy: 0.186\n",
      "Epoch: 4/30..  Training Loss: 0.053..  Test Loss: 4.648..  Test Accuracy: 0.232\n",
      "Epoch: 4/30..  Training Loss: 0.052..  Test Loss: 5.250..  Test Accuracy: 0.164\n",
      "Epoch: 4/30..  Training Loss: 0.053..  Test Loss: 6.012..  Test Accuracy: 0.208\n",
      "Epoch: 4/30..  Training Loss: 0.052..  Test Loss: 6.835..  Test Accuracy: 0.116\n",
      "Epoch: 4/30..  Training Loss: 0.053..  Test Loss: 3.207..  Test Accuracy: 0.202\n",
      "Epoch: 4/30..  Training Loss: 0.054..  Test Loss: 6.813..  Test Accuracy: 0.168\n",
      "Epoch: 4/30..  Training Loss: 0.053..  Test Loss: 4.964..  Test Accuracy: 0.176\n",
      "Epoch: 4/30..  Training Loss: 0.051..  Test Loss: 4.998..  Test Accuracy: 0.220\n",
      "Epoch: 4/30..  Training Loss: 0.053..  Test Loss: 3.922..  Test Accuracy: 0.205\n",
      "Epoch: 4/30..  Training Loss: 0.051..  Test Loss: 4.490..  Test Accuracy: 0.160\n",
      "Epoch: 4/30..  Training Loss: 0.052..  Test Loss: 4.680..  Test Accuracy: 0.140\n",
      "Epoch: 4/30..  Training Loss: 0.052..  Test Loss: 4.567..  Test Accuracy: 0.207\n",
      "Epoch: 4/30..  Training Loss: 0.050..  Test Loss: 4.712..  Test Accuracy: 0.168\n",
      "Epoch: 4/30..  Training Loss: 0.053..  Test Loss: 3.164..  Test Accuracy: 0.244\n",
      "Epoch: 4/30..  Training Loss: 0.052..  Test Loss: 3.484..  Test Accuracy: 0.250\n",
      "Epoch: 4/30..  Training Loss: 0.052..  Test Loss: 3.878..  Test Accuracy: 0.199\n",
      "Epoch: 4/30..  Training Loss: 0.055..  Test Loss: 5.184..  Test Accuracy: 0.154\n",
      "Epoch: 4/30..  Training Loss: 0.054..  Test Loss: 7.411..  Test Accuracy: 0.135\n",
      "Epoch: 4/30..  Training Loss: 0.053..  Test Loss: 6.223..  Test Accuracy: 0.121\n",
      "Epoch: 4/30..  Training Loss: 0.052..  Test Loss: 6.205..  Test Accuracy: 0.149\n",
      "Epoch: 4/30..  Training Loss: 0.052..  Test Loss: 3.801..  Test Accuracy: 0.213\n",
      "Epoch: 4/30..  Training Loss: 0.054..  Test Loss: 4.334..  Test Accuracy: 0.187\n",
      "Epoch: 4/30..  Training Loss: 0.052..  Test Loss: 5.252..  Test Accuracy: 0.182\n",
      "Epoch: 4/30..  Training Loss: 0.052..  Test Loss: 4.556..  Test Accuracy: 0.167\n",
      "Epoch: 4/30..  Training Loss: 0.053..  Test Loss: 5.443..  Test Accuracy: 0.128\n",
      "Epoch: 4/30..  Training Loss: 0.053..  Test Loss: 5.054..  Test Accuracy: 0.175\n",
      "Epoch: 4/30..  Training Loss: 0.053..  Test Loss: 3.938..  Test Accuracy: 0.223\n",
      "Epoch: 4/30..  Training Loss: 0.051..  Test Loss: 5.175..  Test Accuracy: 0.159\n",
      "Epoch: 4/30..  Training Loss: 0.051..  Test Loss: 3.661..  Test Accuracy: 0.209\n",
      "Epoch: 4/30..  Training Loss: 0.053..  Test Loss: 6.145..  Test Accuracy: 0.156\n",
      "Epoch: 5/30..  Training Loss: 0.054..  Test Loss: 4.907..  Test Accuracy: 0.175\n",
      "Epoch: 5/30..  Training Loss: 0.053..  Test Loss: 3.534..  Test Accuracy: 0.229\n",
      "Epoch: 5/30..  Training Loss: 0.052..  Test Loss: 5.908..  Test Accuracy: 0.129\n",
      "Epoch: 5/30..  Training Loss: 0.053..  Test Loss: 4.223..  Test Accuracy: 0.212\n",
      "Epoch: 5/30..  Training Loss: 0.053..  Test Loss: 4.494..  Test Accuracy: 0.224\n",
      "Epoch: 5/30..  Training Loss: 0.051..  Test Loss: 5.355..  Test Accuracy: 0.169\n",
      "Epoch: 5/30..  Training Loss: 0.052..  Test Loss: 6.092..  Test Accuracy: 0.187\n",
      "Epoch: 5/30..  Training Loss: 0.051..  Test Loss: 4.486..  Test Accuracy: 0.206\n",
      "Epoch: 5/30..  Training Loss: 0.053..  Test Loss: 7.765..  Test Accuracy: 0.139\n",
      "Epoch: 5/30..  Training Loss: 0.053..  Test Loss: 6.667..  Test Accuracy: 0.135\n",
      "Epoch: 5/30..  Training Loss: 0.054..  Test Loss: 8.056..  Test Accuracy: 0.139\n",
      "Epoch: 5/30..  Training Loss: 0.052..  Test Loss: 3.975..  Test Accuracy: 0.253\n",
      "Epoch: 5/30..  Training Loss: 0.052..  Test Loss: 6.964..  Test Accuracy: 0.178\n",
      "Epoch: 5/30..  Training Loss: 0.053..  Test Loss: 6.195..  Test Accuracy: 0.200\n",
      "Epoch: 5/30..  Training Loss: 0.052..  Test Loss: 5.299..  Test Accuracy: 0.174\n",
      "Epoch: 5/30..  Training Loss: 0.054..  Test Loss: 3.833..  Test Accuracy: 0.257\n",
      "Epoch: 5/30..  Training Loss: 0.052..  Test Loss: 5.096..  Test Accuracy: 0.169\n",
      "Epoch: 5/30..  Training Loss: 0.054..  Test Loss: 4.703..  Test Accuracy: 0.204\n",
      "Epoch: 5/30..  Training Loss: 0.051..  Test Loss: 3.960..  Test Accuracy: 0.202\n",
      "Epoch: 5/30..  Training Loss: 0.054..  Test Loss: 5.042..  Test Accuracy: 0.207\n",
      "Epoch: 5/30..  Training Loss: 0.052..  Test Loss: 6.495..  Test Accuracy: 0.172\n",
      "Epoch: 5/30..  Training Loss: 0.053..  Test Loss: 4.703..  Test Accuracy: 0.174\n",
      "Epoch: 5/30..  Training Loss: 0.051..  Test Loss: 6.972..  Test Accuracy: 0.120\n",
      "Epoch: 5/30..  Training Loss: 0.052..  Test Loss: 3.649..  Test Accuracy: 0.209\n",
      "Epoch: 5/30..  Training Loss: 0.051..  Test Loss: 6.210..  Test Accuracy: 0.133\n",
      "Epoch: 5/30..  Training Loss: 0.054..  Test Loss: 4.620..  Test Accuracy: 0.230\n",
      "Epoch: 5/30..  Training Loss: 0.052..  Test Loss: 5.041..  Test Accuracy: 0.186\n",
      "Epoch: 5/30..  Training Loss: 0.052..  Test Loss: 7.800..  Test Accuracy: 0.157\n",
      "Epoch: 5/30..  Training Loss: 0.052..  Test Loss: 4.268..  Test Accuracy: 0.191\n",
      "Epoch: 5/30..  Training Loss: 0.051..  Test Loss: 5.438..  Test Accuracy: 0.221\n",
      "Epoch: 5/30..  Training Loss: 0.052..  Test Loss: 4.385..  Test Accuracy: 0.179\n",
      "Epoch: 6/30..  Training Loss: 0.053..  Test Loss: 4.648..  Test Accuracy: 0.233\n",
      "Epoch: 6/30..  Training Loss: 0.051..  Test Loss: 5.953..  Test Accuracy: 0.216\n",
      "Epoch: 6/30..  Training Loss: 0.054..  Test Loss: 5.091..  Test Accuracy: 0.175\n",
      "Epoch: 6/30..  Training Loss: 0.051..  Test Loss: 4.194..  Test Accuracy: 0.203\n",
      "Epoch: 6/30..  Training Loss: 0.052..  Test Loss: 4.889..  Test Accuracy: 0.195\n",
      "Epoch: 6/30..  Training Loss: 0.054..  Test Loss: 3.787..  Test Accuracy: 0.232\n",
      "Epoch: 6/30..  Training Loss: 0.052..  Test Loss: 6.603..  Test Accuracy: 0.136\n",
      "Epoch: 6/30..  Training Loss: 0.051..  Test Loss: 5.503..  Test Accuracy: 0.179\n",
      "Epoch: 6/30..  Training Loss: 0.050..  Test Loss: 6.384..  Test Accuracy: 0.194\n",
      "Epoch: 6/30..  Training Loss: 0.050..  Test Loss: 6.296..  Test Accuracy: 0.161\n",
      "Epoch: 6/30..  Training Loss: 0.054..  Test Loss: 3.667..  Test Accuracy: 0.237\n",
      "Epoch: 6/30..  Training Loss: 0.052..  Test Loss: 5.611..  Test Accuracy: 0.180\n",
      "Epoch: 6/30..  Training Loss: 0.052..  Test Loss: 7.062..  Test Accuracy: 0.163\n",
      "Epoch: 6/30..  Training Loss: 0.053..  Test Loss: 5.263..  Test Accuracy: 0.167\n",
      "Epoch: 6/30..  Training Loss: 0.052..  Test Loss: 6.293..  Test Accuracy: 0.172\n",
      "Epoch: 6/30..  Training Loss: 0.051..  Test Loss: 5.606..  Test Accuracy: 0.135\n",
      "Epoch: 6/30..  Training Loss: 0.052..  Test Loss: 5.869..  Test Accuracy: 0.143\n",
      "Epoch: 6/30..  Training Loss: 0.049..  Test Loss: 4.361..  Test Accuracy: 0.192\n",
      "Epoch: 6/30..  Training Loss: 0.052..  Test Loss: 3.734..  Test Accuracy: 0.213\n",
      "Epoch: 6/30..  Training Loss: 0.050..  Test Loss: 4.816..  Test Accuracy: 0.218\n",
      "Epoch: 6/30..  Training Loss: 0.052..  Test Loss: 8.099..  Test Accuracy: 0.108\n",
      "Epoch: 6/30..  Training Loss: 0.053..  Test Loss: 5.159..  Test Accuracy: 0.169\n",
      "Epoch: 6/30..  Training Loss: 0.052..  Test Loss: 9.553..  Test Accuracy: 0.105\n",
      "Epoch: 6/30..  Training Loss: 0.051..  Test Loss: 6.569..  Test Accuracy: 0.149\n",
      "Epoch: 6/30..  Training Loss: 0.053..  Test Loss: 4.610..  Test Accuracy: 0.167\n",
      "Epoch: 6/30..  Training Loss: 0.051..  Test Loss: 7.415..  Test Accuracy: 0.114\n",
      "Epoch: 6/30..  Training Loss: 0.052..  Test Loss: 5.053..  Test Accuracy: 0.214\n",
      "Epoch: 6/30..  Training Loss: 0.052..  Test Loss: 3.116..  Test Accuracy: 0.255\n",
      "Epoch: 6/30..  Training Loss: 0.052..  Test Loss: 4.788..  Test Accuracy: 0.229\n",
      "Epoch: 6/30..  Training Loss: 0.050..  Test Loss: 3.393..  Test Accuracy: 0.223\n",
      "Epoch: 6/30..  Training Loss: 0.051..  Test Loss: 4.598..  Test Accuracy: 0.185\n",
      "Epoch: 7/30..  Training Loss: 0.052..  Test Loss: 6.040..  Test Accuracy: 0.195\n",
      "Epoch: 7/30..  Training Loss: 0.054..  Test Loss: 5.839..  Test Accuracy: 0.130\n",
      "Epoch: 7/30..  Training Loss: 0.050..  Test Loss: 10.897..  Test Accuracy: 0.102\n",
      "Epoch: 7/30..  Training Loss: 0.053..  Test Loss: 4.873..  Test Accuracy: 0.217\n",
      "Epoch: 7/30..  Training Loss: 0.053..  Test Loss: 4.705..  Test Accuracy: 0.217\n",
      "Epoch: 7/30..  Training Loss: 0.052..  Test Loss: 4.593..  Test Accuracy: 0.192\n",
      "Epoch: 7/30..  Training Loss: 0.050..  Test Loss: 5.955..  Test Accuracy: 0.154\n",
      "Epoch: 7/30..  Training Loss: 0.050..  Test Loss: 5.074..  Test Accuracy: 0.154\n",
      "Epoch: 7/30..  Training Loss: 0.052..  Test Loss: 10.235..  Test Accuracy: 0.108\n",
      "Epoch: 7/30..  Training Loss: 0.051..  Test Loss: 5.604..  Test Accuracy: 0.171\n",
      "Epoch: 7/30..  Training Loss: 0.050..  Test Loss: 5.339..  Test Accuracy: 0.196\n",
      "Epoch: 7/30..  Training Loss: 0.053..  Test Loss: 5.574..  Test Accuracy: 0.145\n",
      "Epoch: 7/30..  Training Loss: 0.053..  Test Loss: 4.833..  Test Accuracy: 0.164\n",
      "Epoch: 7/30..  Training Loss: 0.052..  Test Loss: 8.933..  Test Accuracy: 0.171\n",
      "Epoch: 7/30..  Training Loss: 0.052..  Test Loss: 2.646..  Test Accuracy: 0.275\n",
      "Epoch: 7/30..  Training Loss: 0.049..  Test Loss: 5.373..  Test Accuracy: 0.182\n",
      "Epoch: 7/30..  Training Loss: 0.052..  Test Loss: 5.516..  Test Accuracy: 0.188\n",
      "Epoch: 7/30..  Training Loss: 0.053..  Test Loss: 5.266..  Test Accuracy: 0.161\n",
      "Epoch: 7/30..  Training Loss: 0.052..  Test Loss: 5.937..  Test Accuracy: 0.125\n",
      "Epoch: 7/30..  Training Loss: 0.050..  Test Loss: 8.152..  Test Accuracy: 0.138\n",
      "Epoch: 7/30..  Training Loss: 0.052..  Test Loss: 4.228..  Test Accuracy: 0.215\n",
      "Epoch: 7/30..  Training Loss: 0.052..  Test Loss: 8.687..  Test Accuracy: 0.160\n",
      "Epoch: 7/30..  Training Loss: 0.052..  Test Loss: 9.046..  Test Accuracy: 0.103\n",
      "Epoch: 7/30..  Training Loss: 0.052..  Test Loss: 3.769..  Test Accuracy: 0.268\n",
      "Epoch: 7/30..  Training Loss: 0.052..  Test Loss: 4.327..  Test Accuracy: 0.217\n",
      "Epoch: 7/30..  Training Loss: 0.051..  Test Loss: 3.630..  Test Accuracy: 0.293\n",
      "Epoch: 7/30..  Training Loss: 0.051..  Test Loss: 5.714..  Test Accuracy: 0.164\n",
      "Epoch: 7/30..  Training Loss: 0.051..  Test Loss: 6.301..  Test Accuracy: 0.143\n",
      "Epoch: 7/30..  Training Loss: 0.049..  Test Loss: 4.561..  Test Accuracy: 0.175\n",
      "Epoch: 7/30..  Training Loss: 0.051..  Test Loss: 3.889..  Test Accuracy: 0.196\n",
      "Epoch: 7/30..  Training Loss: 0.049..  Test Loss: 3.658..  Test Accuracy: 0.206\n",
      "Epoch: 8/30..  Training Loss: 0.052..  Test Loss: 7.009..  Test Accuracy: 0.115\n",
      "Epoch: 8/30..  Training Loss: 0.050..  Test Loss: 6.631..  Test Accuracy: 0.193\n",
      "Epoch: 8/30..  Training Loss: 0.052..  Test Loss: 12.316..  Test Accuracy: 0.107\n",
      "Epoch: 8/30..  Training Loss: 0.052..  Test Loss: 7.314..  Test Accuracy: 0.130\n",
      "Epoch: 8/30..  Training Loss: 0.051..  Test Loss: 5.009..  Test Accuracy: 0.157\n",
      "Epoch: 8/30..  Training Loss: 0.050..  Test Loss: 5.601..  Test Accuracy: 0.196\n",
      "Epoch: 8/30..  Training Loss: 0.051..  Test Loss: 6.339..  Test Accuracy: 0.135\n",
      "Epoch: 8/30..  Training Loss: 0.050..  Test Loss: 3.953..  Test Accuracy: 0.248\n",
      "Epoch: 8/30..  Training Loss: 0.051..  Test Loss: 9.567..  Test Accuracy: 0.115\n",
      "Epoch: 8/30..  Training Loss: 0.052..  Test Loss: 6.114..  Test Accuracy: 0.205\n",
      "Epoch: 8/30..  Training Loss: 0.051..  Test Loss: 4.502..  Test Accuracy: 0.187\n",
      "Epoch: 8/30..  Training Loss: 0.052..  Test Loss: 7.755..  Test Accuracy: 0.158\n",
      "Epoch: 8/30..  Training Loss: 0.052..  Test Loss: 5.535..  Test Accuracy: 0.204\n",
      "Epoch: 8/30..  Training Loss: 0.052..  Test Loss: 4.709..  Test Accuracy: 0.224\n",
      "Epoch: 8/30..  Training Loss: 0.052..  Test Loss: 6.709..  Test Accuracy: 0.136\n",
      "Epoch: 8/30..  Training Loss: 0.053..  Test Loss: 8.184..  Test Accuracy: 0.156\n",
      "Epoch: 8/30..  Training Loss: 0.051..  Test Loss: 7.141..  Test Accuracy: 0.190\n",
      "Epoch: 8/30..  Training Loss: 0.052..  Test Loss: 5.813..  Test Accuracy: 0.182\n",
      "Epoch: 8/30..  Training Loss: 0.050..  Test Loss: 5.204..  Test Accuracy: 0.171\n",
      "Epoch: 8/30..  Training Loss: 0.051..  Test Loss: 3.369..  Test Accuracy: 0.256\n",
      "Epoch: 8/30..  Training Loss: 0.050..  Test Loss: 7.481..  Test Accuracy: 0.113\n",
      "Epoch: 8/30..  Training Loss: 0.055..  Test Loss: 6.355..  Test Accuracy: 0.197\n",
      "Epoch: 8/30..  Training Loss: 0.051..  Test Loss: 6.301..  Test Accuracy: 0.166\n",
      "Epoch: 8/30..  Training Loss: 0.051..  Test Loss: 3.607..  Test Accuracy: 0.282\n",
      "Epoch: 8/30..  Training Loss: 0.050..  Test Loss: 6.593..  Test Accuracy: 0.151\n",
      "Epoch: 8/30..  Training Loss: 0.051..  Test Loss: 4.778..  Test Accuracy: 0.184\n",
      "Epoch: 8/30..  Training Loss: 0.051..  Test Loss: 6.926..  Test Accuracy: 0.134\n",
      "Epoch: 8/30..  Training Loss: 0.052..  Test Loss: 7.829..  Test Accuracy: 0.169\n",
      "Epoch: 8/30..  Training Loss: 0.052..  Test Loss: 6.307..  Test Accuracy: 0.156\n",
      "Epoch: 8/30..  Training Loss: 0.050..  Test Loss: 12.608..  Test Accuracy: 0.104\n",
      "Epoch: 8/30..  Training Loss: 0.051..  Test Loss: 5.774..  Test Accuracy: 0.190\n",
      "Epoch: 8/30..  Training Loss: 0.049..  Test Loss: 6.170..  Test Accuracy: 0.189\n",
      "Epoch: 9/30..  Training Loss: 0.052..  Test Loss: 7.031..  Test Accuracy: 0.216\n",
      "Epoch: 9/30..  Training Loss: 0.053..  Test Loss: 4.242..  Test Accuracy: 0.196\n",
      "Epoch: 9/30..  Training Loss: 0.051..  Test Loss: 4.410..  Test Accuracy: 0.208\n",
      "Epoch: 9/30..  Training Loss: 0.053..  Test Loss: 10.041..  Test Accuracy: 0.105\n",
      "Epoch: 9/30..  Training Loss: 0.051..  Test Loss: 5.374..  Test Accuracy: 0.198\n",
      "Epoch: 9/30..  Training Loss: 0.052..  Test Loss: 5.088..  Test Accuracy: 0.220\n",
      "Epoch: 9/30..  Training Loss: 0.054..  Test Loss: 11.024..  Test Accuracy: 0.117\n",
      "Epoch: 9/30..  Training Loss: 0.050..  Test Loss: 4.906..  Test Accuracy: 0.232\n",
      "Epoch: 9/30..  Training Loss: 0.049..  Test Loss: 4.917..  Test Accuracy: 0.217\n",
      "Epoch: 9/30..  Training Loss: 0.049..  Test Loss: 5.500..  Test Accuracy: 0.216\n",
      "Epoch: 9/30..  Training Loss: 0.052..  Test Loss: 7.571..  Test Accuracy: 0.182\n",
      "Epoch: 9/30..  Training Loss: 0.049..  Test Loss: 6.029..  Test Accuracy: 0.142\n",
      "Epoch: 9/30..  Training Loss: 0.047..  Test Loss: 4.290..  Test Accuracy: 0.212\n",
      "Epoch: 9/30..  Training Loss: 0.051..  Test Loss: 5.015..  Test Accuracy: 0.223\n",
      "Epoch: 9/30..  Training Loss: 0.052..  Test Loss: 3.847..  Test Accuracy: 0.210\n",
      "Epoch: 9/30..  Training Loss: 0.052..  Test Loss: 5.068..  Test Accuracy: 0.204\n",
      "Epoch: 9/30..  Training Loss: 0.053..  Test Loss: 6.653..  Test Accuracy: 0.129\n",
      "Epoch: 9/30..  Training Loss: 0.052..  Test Loss: 5.356..  Test Accuracy: 0.252\n",
      "Epoch: 9/30..  Training Loss: 0.050..  Test Loss: 7.090..  Test Accuracy: 0.149\n",
      "Epoch: 9/30..  Training Loss: 0.049..  Test Loss: 5.654..  Test Accuracy: 0.174\n",
      "Epoch: 9/30..  Training Loss: 0.049..  Test Loss: 6.278..  Test Accuracy: 0.190\n",
      "Epoch: 9/30..  Training Loss: 0.051..  Test Loss: 5.603..  Test Accuracy: 0.228\n",
      "Epoch: 9/30..  Training Loss: 0.049..  Test Loss: 6.716..  Test Accuracy: 0.136\n",
      "Epoch: 9/30..  Training Loss: 0.050..  Test Loss: 7.543..  Test Accuracy: 0.167\n",
      "Epoch: 9/30..  Training Loss: 0.050..  Test Loss: 5.310..  Test Accuracy: 0.153\n",
      "Epoch: 9/30..  Training Loss: 0.050..  Test Loss: 6.163..  Test Accuracy: 0.159\n",
      "Epoch: 9/30..  Training Loss: 0.049..  Test Loss: 4.399..  Test Accuracy: 0.231\n",
      "Epoch: 9/30..  Training Loss: 0.052..  Test Loss: 3.934..  Test Accuracy: 0.183\n",
      "Epoch: 9/30..  Training Loss: 0.050..  Test Loss: 6.917..  Test Accuracy: 0.180\n",
      "Epoch: 9/30..  Training Loss: 0.052..  Test Loss: 5.661..  Test Accuracy: 0.147\n",
      "Epoch: 9/30..  Training Loss: 0.051..  Test Loss: 5.137..  Test Accuracy: 0.162\n",
      "Epoch: 10/30..  Training Loss: 0.048..  Test Loss: 9.255..  Test Accuracy: 0.112\n",
      "Epoch: 10/30..  Training Loss: 0.053..  Test Loss: 6.623..  Test Accuracy: 0.174\n",
      "Epoch: 10/30..  Training Loss: 0.051..  Test Loss: 8.028..  Test Accuracy: 0.180\n",
      "Epoch: 10/30..  Training Loss: 0.048..  Test Loss: 4.999..  Test Accuracy: 0.181\n",
      "Epoch: 10/30..  Training Loss: 0.051..  Test Loss: 8.159..  Test Accuracy: 0.137\n",
      "Epoch: 10/30..  Training Loss: 0.051..  Test Loss: 6.120..  Test Accuracy: 0.143\n",
      "Epoch: 10/30..  Training Loss: 0.052..  Test Loss: 8.848..  Test Accuracy: 0.174\n",
      "Epoch: 10/30..  Training Loss: 0.051..  Test Loss: 5.799..  Test Accuracy: 0.199\n",
      "Epoch: 10/30..  Training Loss: 0.049..  Test Loss: 7.241..  Test Accuracy: 0.176\n",
      "Epoch: 10/30..  Training Loss: 0.051..  Test Loss: 6.628..  Test Accuracy: 0.142\n",
      "Epoch: 10/30..  Training Loss: 0.053..  Test Loss: 3.745..  Test Accuracy: 0.233\n",
      "Epoch: 10/30..  Training Loss: 0.051..  Test Loss: 4.441..  Test Accuracy: 0.246\n",
      "Epoch: 10/30..  Training Loss: 0.050..  Test Loss: 8.714..  Test Accuracy: 0.109\n",
      "Epoch: 10/30..  Training Loss: 0.050..  Test Loss: 5.709..  Test Accuracy: 0.190\n",
      "Epoch: 10/30..  Training Loss: 0.049..  Test Loss: 4.776..  Test Accuracy: 0.183\n",
      "Epoch: 10/30..  Training Loss: 0.052..  Test Loss: 4.357..  Test Accuracy: 0.219\n",
      "Epoch: 10/30..  Training Loss: 0.051..  Test Loss: 6.971..  Test Accuracy: 0.160\n",
      "Epoch: 10/30..  Training Loss: 0.050..  Test Loss: 5.537..  Test Accuracy: 0.150\n",
      "Epoch: 10/30..  Training Loss: 0.050..  Test Loss: 6.849..  Test Accuracy: 0.157\n",
      "Epoch: 10/30..  Training Loss: 0.052..  Test Loss: 6.395..  Test Accuracy: 0.206\n",
      "Epoch: 10/30..  Training Loss: 0.053..  Test Loss: 6.030..  Test Accuracy: 0.140\n",
      "Epoch: 10/30..  Training Loss: 0.053..  Test Loss: 5.937..  Test Accuracy: 0.180\n",
      "Epoch: 10/30..  Training Loss: 0.052..  Test Loss: 6.014..  Test Accuracy: 0.224\n",
      "Epoch: 10/30..  Training Loss: 0.051..  Test Loss: 6.955..  Test Accuracy: 0.174\n",
      "Epoch: 10/30..  Training Loss: 0.048..  Test Loss: 7.312..  Test Accuracy: 0.155\n",
      "Epoch: 10/30..  Training Loss: 0.052..  Test Loss: 4.917..  Test Accuracy: 0.198\n",
      "Epoch: 10/30..  Training Loss: 0.051..  Test Loss: 8.206..  Test Accuracy: 0.143\n",
      "Epoch: 10/30..  Training Loss: 0.049..  Test Loss: 3.462..  Test Accuracy: 0.250\n",
      "Epoch: 10/30..  Training Loss: 0.049..  Test Loss: 16.384..  Test Accuracy: 0.103\n",
      "Epoch: 10/30..  Training Loss: 0.051..  Test Loss: 5.513..  Test Accuracy: 0.185\n",
      "Epoch: 10/30..  Training Loss: 0.049..  Test Loss: 4.579..  Test Accuracy: 0.194\n",
      "Epoch: 11/30..  Training Loss: 0.051..  Test Loss: 4.134..  Test Accuracy: 0.198\n",
      "Epoch: 11/30..  Training Loss: 0.051..  Test Loss: 5.915..  Test Accuracy: 0.193\n",
      "Epoch: 11/30..  Training Loss: 0.051..  Test Loss: 5.804..  Test Accuracy: 0.203\n",
      "Epoch: 11/30..  Training Loss: 0.050..  Test Loss: 5.643..  Test Accuracy: 0.189\n",
      "Epoch: 11/30..  Training Loss: 0.050..  Test Loss: 8.478..  Test Accuracy: 0.126\n",
      "Epoch: 11/30..  Training Loss: 0.050..  Test Loss: 5.449..  Test Accuracy: 0.198\n",
      "Epoch: 11/30..  Training Loss: 0.051..  Test Loss: 5.394..  Test Accuracy: 0.185\n",
      "Epoch: 11/30..  Training Loss: 0.050..  Test Loss: 3.730..  Test Accuracy: 0.249\n",
      "Epoch: 11/30..  Training Loss: 0.052..  Test Loss: 7.284..  Test Accuracy: 0.201\n",
      "Epoch: 11/30..  Training Loss: 0.052..  Test Loss: 6.000..  Test Accuracy: 0.207\n",
      "Epoch: 11/30..  Training Loss: 0.051..  Test Loss: 8.131..  Test Accuracy: 0.111\n",
      "Epoch: 11/30..  Training Loss: 0.050..  Test Loss: 6.295..  Test Accuracy: 0.157\n",
      "Epoch: 11/30..  Training Loss: 0.049..  Test Loss: 7.394..  Test Accuracy: 0.165\n",
      "Epoch: 11/30..  Training Loss: 0.050..  Test Loss: 6.832..  Test Accuracy: 0.134\n",
      "Epoch: 11/30..  Training Loss: 0.049..  Test Loss: 6.595..  Test Accuracy: 0.146\n",
      "Epoch: 11/30..  Training Loss: 0.050..  Test Loss: 6.068..  Test Accuracy: 0.126\n",
      "Epoch: 11/30..  Training Loss: 0.049..  Test Loss: 6.199..  Test Accuracy: 0.198\n",
      "Epoch: 11/30..  Training Loss: 0.052..  Test Loss: 5.296..  Test Accuracy: 0.216\n",
      "Epoch: 11/30..  Training Loss: 0.051..  Test Loss: 4.324..  Test Accuracy: 0.261\n",
      "Epoch: 11/30..  Training Loss: 0.050..  Test Loss: 10.191..  Test Accuracy: 0.189\n",
      "Epoch: 11/30..  Training Loss: 0.049..  Test Loss: 4.758..  Test Accuracy: 0.223\n",
      "Epoch: 11/30..  Training Loss: 0.050..  Test Loss: 5.669..  Test Accuracy: 0.184\n",
      "Epoch: 11/30..  Training Loss: 0.051..  Test Loss: 4.136..  Test Accuracy: 0.241\n",
      "Epoch: 11/30..  Training Loss: 0.049..  Test Loss: 6.000..  Test Accuracy: 0.152\n",
      "Epoch: 11/30..  Training Loss: 0.052..  Test Loss: 4.981..  Test Accuracy: 0.212\n",
      "Epoch: 11/30..  Training Loss: 0.052..  Test Loss: 5.617..  Test Accuracy: 0.179\n",
      "Epoch: 11/30..  Training Loss: 0.053..  Test Loss: 4.277..  Test Accuracy: 0.216\n",
      "Epoch: 11/30..  Training Loss: 0.050..  Test Loss: 5.144..  Test Accuracy: 0.216\n",
      "Epoch: 11/30..  Training Loss: 0.049..  Test Loss: 6.696..  Test Accuracy: 0.207\n",
      "Epoch: 11/30..  Training Loss: 0.049..  Test Loss: 5.904..  Test Accuracy: 0.138\n",
      "Epoch: 11/30..  Training Loss: 0.051..  Test Loss: 5.663..  Test Accuracy: 0.191\n",
      "Epoch: 11/30..  Training Loss: 0.050..  Test Loss: 8.022..  Test Accuracy: 0.174\n",
      "Epoch: 12/30..  Training Loss: 0.050..  Test Loss: 7.618..  Test Accuracy: 0.153\n",
      "Epoch: 12/30..  Training Loss: 0.050..  Test Loss: 4.085..  Test Accuracy: 0.265\n",
      "Epoch: 12/30..  Training Loss: 0.049..  Test Loss: 8.439..  Test Accuracy: 0.149\n",
      "Epoch: 12/30..  Training Loss: 0.050..  Test Loss: 7.917..  Test Accuracy: 0.167\n",
      "Epoch: 12/30..  Training Loss: 0.050..  Test Loss: 15.285..  Test Accuracy: 0.101\n",
      "Epoch: 12/30..  Training Loss: 0.051..  Test Loss: 5.766..  Test Accuracy: 0.185\n",
      "Epoch: 12/30..  Training Loss: 0.050..  Test Loss: 4.241..  Test Accuracy: 0.207\n",
      "Epoch: 12/30..  Training Loss: 0.049..  Test Loss: 6.059..  Test Accuracy: 0.202\n",
      "Epoch: 12/30..  Training Loss: 0.051..  Test Loss: 7.855..  Test Accuracy: 0.118\n",
      "Epoch: 12/30..  Training Loss: 0.049..  Test Loss: 4.550..  Test Accuracy: 0.240\n",
      "Epoch: 12/30..  Training Loss: 0.051..  Test Loss: 8.631..  Test Accuracy: 0.134\n",
      "Epoch: 12/30..  Training Loss: 0.049..  Test Loss: 6.082..  Test Accuracy: 0.188\n",
      "Epoch: 12/30..  Training Loss: 0.052..  Test Loss: 8.919..  Test Accuracy: 0.143\n",
      "Epoch: 12/30..  Training Loss: 0.051..  Test Loss: 4.905..  Test Accuracy: 0.203\n",
      "Epoch: 12/30..  Training Loss: 0.050..  Test Loss: 5.139..  Test Accuracy: 0.181\n",
      "Epoch: 12/30..  Training Loss: 0.051..  Test Loss: 6.100..  Test Accuracy: 0.181\n",
      "Epoch: 12/30..  Training Loss: 0.051..  Test Loss: 5.176..  Test Accuracy: 0.199\n",
      "Epoch: 12/30..  Training Loss: 0.051..  Test Loss: 10.253..  Test Accuracy: 0.114\n",
      "Epoch: 12/30..  Training Loss: 0.048..  Test Loss: 5.959..  Test Accuracy: 0.173\n",
      "Epoch: 12/30..  Training Loss: 0.049..  Test Loss: 4.947..  Test Accuracy: 0.228\n",
      "Epoch: 12/30..  Training Loss: 0.051..  Test Loss: 6.666..  Test Accuracy: 0.154\n",
      "Epoch: 12/30..  Training Loss: 0.049..  Test Loss: 7.271..  Test Accuracy: 0.195\n",
      "Epoch: 12/30..  Training Loss: 0.049..  Test Loss: 8.000..  Test Accuracy: 0.143\n",
      "Epoch: 12/30..  Training Loss: 0.049..  Test Loss: 5.743..  Test Accuracy: 0.223\n",
      "Epoch: 12/30..  Training Loss: 0.051..  Test Loss: 8.344..  Test Accuracy: 0.193\n",
      "Epoch: 12/30..  Training Loss: 0.051..  Test Loss: 6.604..  Test Accuracy: 0.159\n",
      "Epoch: 12/30..  Training Loss: 0.053..  Test Loss: 4.032..  Test Accuracy: 0.198\n",
      "Epoch: 12/30..  Training Loss: 0.052..  Test Loss: 7.379..  Test Accuracy: 0.205\n",
      "Epoch: 12/30..  Training Loss: 0.050..  Test Loss: 4.924..  Test Accuracy: 0.243\n",
      "Epoch: 12/30..  Training Loss: 0.049..  Test Loss: 6.930..  Test Accuracy: 0.185\n",
      "Epoch: 12/30..  Training Loss: 0.050..  Test Loss: 6.557..  Test Accuracy: 0.156\n",
      "Epoch: 13/30..  Training Loss: 0.050..  Test Loss: 7.917..  Test Accuracy: 0.155\n",
      "Epoch: 13/30..  Training Loss: 0.050..  Test Loss: 6.270..  Test Accuracy: 0.180\n",
      "Epoch: 13/30..  Training Loss: 0.050..  Test Loss: 4.084..  Test Accuracy: 0.244\n",
      "Epoch: 13/30..  Training Loss: 0.049..  Test Loss: 5.384..  Test Accuracy: 0.186\n",
      "Epoch: 13/30..  Training Loss: 0.050..  Test Loss: 7.877..  Test Accuracy: 0.159\n",
      "Epoch: 13/30..  Training Loss: 0.050..  Test Loss: 4.665..  Test Accuracy: 0.235\n",
      "Epoch: 13/30..  Training Loss: 0.048..  Test Loss: 5.594..  Test Accuracy: 0.200\n",
      "Epoch: 13/30..  Training Loss: 0.051..  Test Loss: 8.262..  Test Accuracy: 0.130\n",
      "Epoch: 13/30..  Training Loss: 0.050..  Test Loss: 5.833..  Test Accuracy: 0.182\n",
      "Epoch: 13/30..  Training Loss: 0.051..  Test Loss: 11.279..  Test Accuracy: 0.104\n",
      "Epoch: 13/30..  Training Loss: 0.051..  Test Loss: 7.865..  Test Accuracy: 0.202\n",
      "Epoch: 13/30..  Training Loss: 0.051..  Test Loss: 10.208..  Test Accuracy: 0.124\n",
      "Epoch: 13/30..  Training Loss: 0.050..  Test Loss: 4.228..  Test Accuracy: 0.249\n",
      "Epoch: 13/30..  Training Loss: 0.051..  Test Loss: 3.973..  Test Accuracy: 0.265\n",
      "Epoch: 13/30..  Training Loss: 0.047..  Test Loss: 6.692..  Test Accuracy: 0.195\n",
      "Epoch: 13/30..  Training Loss: 0.048..  Test Loss: 10.940..  Test Accuracy: 0.169\n",
      "Epoch: 13/30..  Training Loss: 0.049..  Test Loss: 9.168..  Test Accuracy: 0.150\n",
      "Epoch: 13/30..  Training Loss: 0.052..  Test Loss: 4.067..  Test Accuracy: 0.233\n",
      "Epoch: 13/30..  Training Loss: 0.052..  Test Loss: 4.362..  Test Accuracy: 0.202\n",
      "Epoch: 13/30..  Training Loss: 0.050..  Test Loss: 4.672..  Test Accuracy: 0.210\n",
      "Epoch: 13/30..  Training Loss: 0.051..  Test Loss: 5.181..  Test Accuracy: 0.209\n",
      "Epoch: 13/30..  Training Loss: 0.051..  Test Loss: 4.415..  Test Accuracy: 0.242\n",
      "Epoch: 13/30..  Training Loss: 0.053..  Test Loss: 6.642..  Test Accuracy: 0.150\n",
      "Epoch: 13/30..  Training Loss: 0.050..  Test Loss: 7.826..  Test Accuracy: 0.154\n",
      "Epoch: 13/30..  Training Loss: 0.052..  Test Loss: 4.285..  Test Accuracy: 0.212\n",
      "Epoch: 13/30..  Training Loss: 0.051..  Test Loss: 9.683..  Test Accuracy: 0.127\n",
      "Epoch: 13/30..  Training Loss: 0.051..  Test Loss: 4.426..  Test Accuracy: 0.217\n",
      "Epoch: 13/30..  Training Loss: 0.049..  Test Loss: 3.728..  Test Accuracy: 0.250\n",
      "Epoch: 13/30..  Training Loss: 0.051..  Test Loss: 6.071..  Test Accuracy: 0.144\n",
      "Epoch: 13/30..  Training Loss: 0.050..  Test Loss: 8.042..  Test Accuracy: 0.160\n",
      "Epoch: 13/30..  Training Loss: 0.050..  Test Loss: 10.251..  Test Accuracy: 0.125\n",
      "Epoch: 14/30..  Training Loss: 0.053..  Test Loss: 4.382..  Test Accuracy: 0.219\n",
      "Epoch: 14/30..  Training Loss: 0.051..  Test Loss: 6.670..  Test Accuracy: 0.190\n",
      "Epoch: 14/30..  Training Loss: 0.047..  Test Loss: 6.163..  Test Accuracy: 0.187\n",
      "Epoch: 14/30..  Training Loss: 0.051..  Test Loss: 6.891..  Test Accuracy: 0.150\n",
      "Epoch: 14/30..  Training Loss: 0.052..  Test Loss: 6.000..  Test Accuracy: 0.212\n",
      "Epoch: 14/30..  Training Loss: 0.050..  Test Loss: 3.519..  Test Accuracy: 0.239\n",
      "Epoch: 14/30..  Training Loss: 0.050..  Test Loss: 7.747..  Test Accuracy: 0.140\n",
      "Epoch: 14/30..  Training Loss: 0.050..  Test Loss: 7.636..  Test Accuracy: 0.116\n",
      "Epoch: 14/30..  Training Loss: 0.051..  Test Loss: 6.879..  Test Accuracy: 0.178\n",
      "Epoch: 14/30..  Training Loss: 0.049..  Test Loss: 5.443..  Test Accuracy: 0.199\n",
      "Epoch: 14/30..  Training Loss: 0.048..  Test Loss: 5.818..  Test Accuracy: 0.235\n",
      "Epoch: 14/30..  Training Loss: 0.050..  Test Loss: 6.535..  Test Accuracy: 0.184\n",
      "Epoch: 14/30..  Training Loss: 0.050..  Test Loss: 8.575..  Test Accuracy: 0.172\n",
      "Epoch: 14/30..  Training Loss: 0.052..  Test Loss: 9.195..  Test Accuracy: 0.147\n",
      "Epoch: 14/30..  Training Loss: 0.052..  Test Loss: 4.932..  Test Accuracy: 0.176\n",
      "Epoch: 14/30..  Training Loss: 0.051..  Test Loss: 6.648..  Test Accuracy: 0.160\n",
      "Epoch: 14/30..  Training Loss: 0.048..  Test Loss: 3.058..  Test Accuracy: 0.265\n",
      "Epoch: 14/30..  Training Loss: 0.051..  Test Loss: 6.670..  Test Accuracy: 0.194\n",
      "Epoch: 14/30..  Training Loss: 0.047..  Test Loss: 5.304..  Test Accuracy: 0.224\n",
      "Epoch: 14/30..  Training Loss: 0.051..  Test Loss: 6.625..  Test Accuracy: 0.196\n",
      "Epoch: 14/30..  Training Loss: 0.050..  Test Loss: 10.251..  Test Accuracy: 0.104\n",
      "Epoch: 14/30..  Training Loss: 0.049..  Test Loss: 13.053..  Test Accuracy: 0.109\n",
      "Epoch: 14/30..  Training Loss: 0.051..  Test Loss: 6.234..  Test Accuracy: 0.152\n",
      "Epoch: 14/30..  Training Loss: 0.050..  Test Loss: 8.360..  Test Accuracy: 0.177\n",
      "Epoch: 14/30..  Training Loss: 0.051..  Test Loss: 7.129..  Test Accuracy: 0.167\n",
      "Epoch: 14/30..  Training Loss: 0.052..  Test Loss: 4.434..  Test Accuracy: 0.225\n",
      "Epoch: 14/30..  Training Loss: 0.049..  Test Loss: 5.470..  Test Accuracy: 0.223\n",
      "Epoch: 14/30..  Training Loss: 0.048..  Test Loss: 10.188..  Test Accuracy: 0.110\n",
      "Epoch: 14/30..  Training Loss: 0.049..  Test Loss: 5.630..  Test Accuracy: 0.162\n",
      "Epoch: 14/30..  Training Loss: 0.050..  Test Loss: 5.055..  Test Accuracy: 0.193\n",
      "Epoch: 14/30..  Training Loss: 0.047..  Test Loss: 6.161..  Test Accuracy: 0.194\n",
      "Epoch: 15/30..  Training Loss: 0.049..  Test Loss: 6.487..  Test Accuracy: 0.178\n",
      "Epoch: 15/30..  Training Loss: 0.050..  Test Loss: 3.857..  Test Accuracy: 0.292\n",
      "Epoch: 15/30..  Training Loss: 0.049..  Test Loss: 9.839..  Test Accuracy: 0.140\n",
      "Epoch: 15/30..  Training Loss: 0.048..  Test Loss: 4.924..  Test Accuracy: 0.243\n",
      "Epoch: 15/30..  Training Loss: 0.049..  Test Loss: 11.244..  Test Accuracy: 0.110\n",
      "Epoch: 15/30..  Training Loss: 0.048..  Test Loss: 10.204..  Test Accuracy: 0.120\n",
      "Epoch: 15/30..  Training Loss: 0.049..  Test Loss: 11.418..  Test Accuracy: 0.117\n",
      "Epoch: 15/30..  Training Loss: 0.052..  Test Loss: 7.055..  Test Accuracy: 0.192\n",
      "Epoch: 15/30..  Training Loss: 0.047..  Test Loss: 6.905..  Test Accuracy: 0.170\n",
      "Epoch: 15/30..  Training Loss: 0.050..  Test Loss: 4.700..  Test Accuracy: 0.215\n",
      "Epoch: 15/30..  Training Loss: 0.050..  Test Loss: 5.615..  Test Accuracy: 0.173\n",
      "Epoch: 15/30..  Training Loss: 0.050..  Test Loss: 8.964..  Test Accuracy: 0.134\n",
      "Epoch: 15/30..  Training Loss: 0.049..  Test Loss: 7.215..  Test Accuracy: 0.138\n"
     ]
    }
   ],
   "source": [
    "## YOUR CODE HERE ##\n",
    "\n",
    "model.to(device)\n",
    "epochs = 30\n",
    "steps = 0\n",
    "running_loss = 0\n",
    "print_every = 25\n",
    "\n",
    "train_losses, test_losses, accuracy_score = [], [], []\n",
    "\n",
    "for epoch in range(epochs):\n",
    "    for images, labels in trainloader:\n",
    "        steps += 1\n",
    "        # Move input and label tensors to the default device\n",
    "        images, labels = images.to(device), labels.to(device)\n",
    "        \n",
    "        optimizer.zero_grad()\n",
    "        \n",
    "        logps = model.forward(images)\n",
    "        loss = criterion(logps, labels)\n",
    "        loss.backward()\n",
    "        optimizer.step()\n",
    "\n",
    "        running_loss += loss.item()\n",
    "        \n",
    "        if steps % print_every == 0:\n",
    "            test_loss = 0\n",
    "            accuracy = 0\n",
    "            model.eval()\n",
    "            with torch.no_grad():\n",
    "                for images, labels in testloader:\n",
    "                    images, labels = images.to(device), labels.to(device)\n",
    "                    logps = model.forward(images)\n",
    "                    batch_loss = criterion(logps, labels)\n",
    "                    \n",
    "                    test_loss += batch_loss.item()\n",
    "                    \n",
    "                    # Calculate accuracy\n",
    "                    ps = torch.exp(logps)\n",
    "                    top_p, top_class = ps.topk(1, dim=1)\n",
    "                    equals = top_class == labels.view(*top_class.shape)\n",
    "                    accuracy += torch.mean(equals.type(torch.FloatTensor)).item()\n",
    "            \n",
    "            # Used Model.train() in the Training mode for training  \n",
    "            model.train()\n",
    "            train_losses.append(running_loss/len(trainloader))\n",
    "            test_losses.append(test_loss/len(testloader))\n",
    "            \n",
    "            print(\"Epoch: {}/{}.. \".format(epoch+1, epochs),\n",
    "              \"Training Loss: {:.3f}.. \".format(running_loss/len(trainloader)),\n",
    "              \"Test Loss: {:.3f}.. \".format(test_loss/len(testloader)),\n",
    "              \"Test Accuracy: {:.3f}\".format(accuracy/len(testloader)))\n",
    "            running_loss = 0\n",
    "            \n",
    "            "
   ]
  },
  {
   "cell_type": "markdown",
   "metadata": {},
   "source": [
    "## Running your Neural Network\n",
    "Use whatever method you like to train your neural network, and ensure you record the average loss at each epoch. \n",
    "Don't forget to use `torch.device()` and the `.to()` method for both your model and your data if you are using GPU!\n",
    "\n",
    "If you want to print your loss during each epoch, you can use the `enumerate` function and print the loss after a set number of batches. 250 batches works well for most people!"
   ]
  },
  {
   "cell_type": "code",
   "execution_count": 14,
   "metadata": {},
   "outputs": [
    {
     "data": {
      "image/png": "[encoded data removed]",
      "text/plain": [
       "<matplotlib.figure.Figure at 0x7f9c1587a5f8>"
      ]
     },
     "metadata": {
      "needs_background": "light"
     },
     "output_type": "display_data"
    },
    {
     "data": {
      "image/png": "[encoded data removed]",
      "text/plain": [
       "<matplotlib.figure.Figure at 0x7f9c17b81ac8>"
      ]
     },
     "metadata": {
      "needs_background": "light"
     },
     "output_type": "display_data"
    }
   ],
   "source": [
    "## YOUR CODE HERE ##\n",
    "\n",
    "plt.plot(train_losses, label='Training loss')\n",
    "plt.plot(test_losses, label='Validation loss')\n",
    "plt.legend(frameon=False)\n",
    "plt.show()\n",
    "\n",
    "\n",
    "plt.plot(accuracy, label='Accuracy score')\n",
    "plt.legend(frameon=False)\n",
    "plt.show()"
   ]
  },
  {
   "cell_type": "code",
   "execution_count": 15,
   "metadata": {},
   "outputs": [],
   "source": [
    "## YOUR CODE HERE ##\n",
    "def model_accuracy(test_dl, model):\n",
    "    total_acc = 0\n",
    "    batch_num = 0\n",
    "    for image, label in test_loader:\n",
    "        with torch.no_grad():\n",
    "            _, pred = torch.max(model(image), dim=1)\n",
    "            acc = torch.sum(pred == label).item() / len(pred)\n",
    "            total_acc += acc\n",
    "        batch_num += 1\n",
    "\n",
    "    total_acc /= batch_num\n",
    "    return(total_acc)\n",
    "\n",
    "def model_loss(test_dl, model):\n",
    "    total_loss = 0\n",
    "    batch_num = 0\n",
    "    for image, label in test_loader:\n",
    "        with torch.no_grad():\n",
    "            out = model(image)\n",
    "            loss = criterion(out, label).item()\n",
    "            total_loss += loss\n",
    "        batch_num += 1\n",
    "\n",
    "    total_loss /= batch_num\n",
    "    return(total_loss)"
   ]
  },
  {
   "cell_type": "markdown",
   "metadata": {},
   "source": [
    "Plot the training loss (and validation loss/accuracy, if recorded)."
   ]
  },
  {
   "cell_type": "code",
   "execution_count": 16,
   "metadata": {},
   "outputs": [
    {
     "ename": "RuntimeError",
     "evalue": "invalid argument 2: size '[-1 x 400]' is invalid for input with 2876416 elements at /opt/conda/conda-bld/pytorch_1524584710464/work/aten/src/TH/THStorage.c:37",
     "output_type": "error",
     "traceback": [
      "\u001b[0;31m---------------------------------------------------------------------------\u001b[0m",
      "\u001b[0;31mRuntimeError\u001b[0m                              Traceback (most recent call last)",
      "\u001b[0;32m<ipython-input-16-d9031ed5769e>\u001b[0m in \u001b[0;36m<module>\u001b[0;34m()\u001b[0m\n\u001b[1;32m      5\u001b[0m     \u001b[0mcounter\u001b[0m \u001b[0;34m=\u001b[0m \u001b[0;36m0\u001b[0m\u001b[0;34m\u001b[0m\u001b[0m\n\u001b[1;32m      6\u001b[0m     \u001b[0;32mfor\u001b[0m \u001b[0mxb\u001b[0m\u001b[0;34m,\u001b[0m \u001b[0myb\u001b[0m \u001b[0;32min\u001b[0m \u001b[0mtrainloader\u001b[0m\u001b[0;34m:\u001b[0m\u001b[0;34m\u001b[0m\u001b[0m\n\u001b[0;32m----> 7\u001b[0;31m         \u001b[0mout\u001b[0m \u001b[0;34m=\u001b[0m \u001b[0mmodel\u001b[0m\u001b[0;34m(\u001b[0m\u001b[0mxb\u001b[0m\u001b[0;34m)\u001b[0m\u001b[0;34m\u001b[0m\u001b[0m\n\u001b[0m\u001b[1;32m      8\u001b[0m         \u001b[0mloss\u001b[0m \u001b[0;34m=\u001b[0m \u001b[0mcriterion\u001b[0m\u001b[0;34m(\u001b[0m\u001b[0mout\u001b[0m\u001b[0;34m,\u001b[0m \u001b[0myb\u001b[0m\u001b[0;34m)\u001b[0m\u001b[0;34m\u001b[0m\u001b[0m\n\u001b[1;32m      9\u001b[0m         \u001b[0mloss\u001b[0m\u001b[0;34m.\u001b[0m\u001b[0mbackward\u001b[0m\u001b[0;34m(\u001b[0m\u001b[0;34m)\u001b[0m\u001b[0;34m\u001b[0m\u001b[0m\n",
      "\u001b[0;32m/opt/conda/lib/python3.6/site-packages/torch/nn/modules/module.py\u001b[0m in \u001b[0;36m__call__\u001b[0;34m(self, *input, **kwargs)\u001b[0m\n\u001b[1;32m    489\u001b[0m             \u001b[0mresult\u001b[0m \u001b[0;34m=\u001b[0m \u001b[0mself\u001b[0m\u001b[0;34m.\u001b[0m\u001b[0m_slow_forward\u001b[0m\u001b[0;34m(\u001b[0m\u001b[0;34m*\u001b[0m\u001b[0minput\u001b[0m\u001b[0;34m,\u001b[0m \u001b[0;34m**\u001b[0m\u001b[0mkwargs\u001b[0m\u001b[0;34m)\u001b[0m\u001b[0;34m\u001b[0m\u001b[0m\n\u001b[1;32m    490\u001b[0m         \u001b[0;32melse\u001b[0m\u001b[0;34m:\u001b[0m\u001b[0;34m\u001b[0m\u001b[0m\n\u001b[0;32m--> 491\u001b[0;31m             \u001b[0mresult\u001b[0m \u001b[0;34m=\u001b[0m \u001b[0mself\u001b[0m\u001b[0;34m.\u001b[0m\u001b[0mforward\u001b[0m\u001b[0;34m(\u001b[0m\u001b[0;34m*\u001b[0m\u001b[0minput\u001b[0m\u001b[0;34m,\u001b[0m \u001b[0;34m**\u001b[0m\u001b[0mkwargs\u001b[0m\u001b[0;34m)\u001b[0m\u001b[0;34m\u001b[0m\u001b[0m\n\u001b[0m\u001b[1;32m    492\u001b[0m         \u001b[0;32mfor\u001b[0m \u001b[0mhook\u001b[0m \u001b[0;32min\u001b[0m \u001b[0mself\u001b[0m\u001b[0;34m.\u001b[0m\u001b[0m_forward_hooks\u001b[0m\u001b[0;34m.\u001b[0m\u001b[0mvalues\u001b[0m\u001b[0;34m(\u001b[0m\u001b[0;34m)\u001b[0m\u001b[0;34m:\u001b[0m\u001b[0;34m\u001b[0m\u001b[0m\n\u001b[1;32m    493\u001b[0m             \u001b[0mhook_result\u001b[0m \u001b[0;34m=\u001b[0m \u001b[0mhook\u001b[0m\u001b[0;34m(\u001b[0m\u001b[0mself\u001b[0m\u001b[0;34m,\u001b[0m \u001b[0minput\u001b[0m\u001b[0;34m,\u001b[0m \u001b[0mresult\u001b[0m\u001b[0;34m)\u001b[0m\u001b[0;34m\u001b[0m\u001b[0m\n",
      "\u001b[0;32m<ipython-input-13-3c94c1f2d664>\u001b[0m in \u001b[0;36mforward\u001b[0;34m(self, x)\u001b[0m\n\u001b[1;32m     16\u001b[0m         \u001b[0mx\u001b[0m \u001b[0;34m=\u001b[0m \u001b[0mself\u001b[0m\u001b[0;34m.\u001b[0m\u001b[0mpool\u001b[0m\u001b[0;34m(\u001b[0m\u001b[0mF\u001b[0m\u001b[0;34m.\u001b[0m\u001b[0mrelu\u001b[0m\u001b[0;34m(\u001b[0m\u001b[0mself\u001b[0m\u001b[0;34m.\u001b[0m\u001b[0mconv1\u001b[0m\u001b[0;34m(\u001b[0m\u001b[0mx\u001b[0m\u001b[0;34m)\u001b[0m\u001b[0;34m)\u001b[0m\u001b[0;34m)\u001b[0m\u001b[0;34m\u001b[0m\u001b[0m\n\u001b[1;32m     17\u001b[0m         \u001b[0mx\u001b[0m \u001b[0;34m=\u001b[0m \u001b[0mself\u001b[0m\u001b[0;34m.\u001b[0m\u001b[0mpool\u001b[0m\u001b[0;34m(\u001b[0m\u001b[0mF\u001b[0m\u001b[0;34m.\u001b[0m\u001b[0mrelu\u001b[0m\u001b[0;34m(\u001b[0m\u001b[0mself\u001b[0m\u001b[0;34m.\u001b[0m\u001b[0mconv2\u001b[0m\u001b[0;34m(\u001b[0m\u001b[0mx\u001b[0m\u001b[0;34m)\u001b[0m\u001b[0;34m)\u001b[0m\u001b[0;34m)\u001b[0m\u001b[0;34m\u001b[0m\u001b[0m\n\u001b[0;32m---> 18\u001b[0;31m         \u001b[0mx\u001b[0m \u001b[0;34m=\u001b[0m \u001b[0mx\u001b[0m\u001b[0;34m.\u001b[0m\u001b[0mview\u001b[0m\u001b[0;34m(\u001b[0m\u001b[0;34m-\u001b[0m\u001b[0;36m1\u001b[0m\u001b[0;34m,\u001b[0m \u001b[0;36m16\u001b[0m \u001b[0;34m*\u001b[0m \u001b[0;36m5\u001b[0m \u001b[0;34m*\u001b[0m \u001b[0;36m5\u001b[0m\u001b[0;34m)\u001b[0m\u001b[0;34m\u001b[0m\u001b[0m\n\u001b[0m\u001b[1;32m     19\u001b[0m         \u001b[0mx\u001b[0m \u001b[0;34m=\u001b[0m \u001b[0mF\u001b[0m\u001b[0;34m.\u001b[0m\u001b[0mrelu\u001b[0m\u001b[0;34m(\u001b[0m\u001b[0mself\u001b[0m\u001b[0;34m.\u001b[0m\u001b[0mlin1\u001b[0m\u001b[0;34m(\u001b[0m\u001b[0mx\u001b[0m\u001b[0;34m)\u001b[0m\u001b[0;34m)\u001b[0m\u001b[0;34m\u001b[0m\u001b[0m\n\u001b[1;32m     20\u001b[0m         \u001b[0mx\u001b[0m \u001b[0;34m=\u001b[0m \u001b[0mF\u001b[0m\u001b[0;34m.\u001b[0m\u001b[0mrelu\u001b[0m\u001b[0;34m(\u001b[0m\u001b[0mself\u001b[0m\u001b[0;34m.\u001b[0m\u001b[0mlin2\u001b[0m\u001b[0;34m(\u001b[0m\u001b[0mx\u001b[0m\u001b[0;34m)\u001b[0m\u001b[0;34m)\u001b[0m\u001b[0;34m\u001b[0m\u001b[0m\n",
      "\u001b[0;31mRuntimeError\u001b[0m: invalid argument 2: size '[-1 x 400]' is invalid for input with 2876416 elements at /opt/conda/conda-bld/pytorch_1524584710464/work/aten/src/TH/THStorage.c:37"
     ]
    }
   ],
   "source": [
    "## YOUR CODE HERE ##\n",
    "\n",
    "for epoch in range(10):\n",
    "    epoch_loss = 0\n",
    "    counter = 0\n",
    "    for xb, yb in trainloader:\n",
    "        out = model(xb)\n",
    "        loss = criterion(out, yb)\n",
    "        loss.backward()\n",
    "        opt.step()\n",
    "        opt.zero_grad()\n",
    "        epoch_loss += loss\n",
    "        counter += 1\n",
    "    epoch_loss /= counter\n",
    "    history.append({\"loss\": epoch_loss, \"test_acc\": model_accuracy(test_loader, model), \"test_loss\": model_loss(test_loader, model)})\n",
    "    print(\"Epoch {} ended... loss: {}   ...   test_acc: {}   ...   test_loss: {}\".format(epoch, history[-1][\"loss\"], history[-1][\"test_acc\"], history[-1][\"test_loss\"]))"
   ]
  },
  {
   "cell_type": "markdown",
   "metadata": {},
   "source": [
    "## Testing your model\n",
    "Using the previously created `DataLoader` for the test set, compute the percentage of correct predictions using the highest probability prediction. \n",
    "\n",
    "If your accuracy is over 70%, great work! \n",
    "This is a hard task to exceed 70% on.\n",
    "\n",
    "If your accuracy is under 45%, you'll need to make improvements.\n",
    "Go back and check your model architecture, loss function, and optimizer to make sure they're appropriate for an image classification task."
   ]
  },
  {
   "cell_type": "code",
   "execution_count": null,
   "metadata": {},
   "outputs": [],
   "source": [
    "## YOUR CODE HERE ##"
   ]
  },
  {
   "cell_type": "markdown",
   "metadata": {},
   "source": [
    "## Saving your model\n",
    "Using `torch.save`, save your model for future loading."
   ]
  },
  {
   "cell_type": "code",
   "execution_count": null,
   "metadata": {},
   "outputs": [],
   "source": [
    "## YOUR CODE HERE ##"
   ]
  },
  {
   "cell_type": "markdown",
   "metadata": {},
   "source": [
    "## Make a Recommendation\n",
    "\n",
    "Based on your evaluation, what is your recommendation on whether to build or buy? Explain your reasoning below.\n",
    "\n",
    "Some things to consider as you formulate your recommendation:\n",
    "* How does your model compare to Detectocorp's model?\n",
    "* How does it compare to the far more advanced solutions in the literature? \n",
    "* What did you do to get the accuracy you achieved? \n",
    "* Is it necessary to improve this accuracy? If so, what sort of work would be involved in improving it?"
   ]
  },
  {
   "cell_type": "markdown",
   "metadata": {},
   "source": [
    "\n",
    "\n",
    "**Double click this cell to modify it**\n",
    "\n"
   ]
  },
  {
   "cell_type": "markdown",
   "metadata": {},
   "source": [
    "## Submit Your Project\n",
    "\n",
    "When you are finished editing the notebook and are ready to turn it in, simply click the **SUBMIT PROJECT** button in the lower right.\n",
    "\n",
    "Once you submit your project, we'll review your work and give you feedback if there's anything that you need to work on. If you'd like to see the exact points that your reviewer will check for when looking at your work, you can have a look over the project [rubric](https://review.udacity.com/#!/rubrics/3077/view)."
   ]
  }
 ],
 "metadata": {
  "kernelspec": {
   "display_name": "Python 3",
   "language": "python",
   "name": "python3"
  },
  "language_info": {
   "codemirror_mode": {
    "name": "ipython",
    "version": 3
   },
   "file_extension": ".py",
   "mimetype": "text/x-python",
   "name": "python",
   "nbconvert_exporter": "python",
   "pygments_lexer": "ipython3",
   "version": "3.6.3"
  }
 },
 "nbformat": 4,
 "nbformat_minor": 4
}
